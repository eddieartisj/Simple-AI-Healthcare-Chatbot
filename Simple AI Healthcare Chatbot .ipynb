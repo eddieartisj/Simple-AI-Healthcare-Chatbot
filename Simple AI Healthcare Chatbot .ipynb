{
 "cells": [
  {
   "cell_type": "markdown",
   "id": "04ca694d",
   "metadata": {},
   "source": [
    "\n",
    "# Simple AI Chatbot (Healthcare)\n"
   ]
  },
  {
   "cell_type": "code",
   "execution_count": 1,
   "id": "08863acf",
   "metadata": {},
   "outputs": [],
   "source": [
    "# Import necessary libraries from nltk\n",
    "import nltk\n",
    "from nltk.chat.util import Chat, reflections"
   ]
  },
  {
   "cell_type": "code",
   "execution_count": 2,
   "id": "ea5db551",
   "metadata": {},
   "outputs": [],
   "source": [
    "# Define patterns and corresponding responses tailored for a healthcare setting\n",
    "# Each entry in 'pairs' consists of a regex pattern and a list of appropriate responses.\n",
    "pairs = [\n",
    "    [\n",
    "        r\"(hi|hello|hey|good morning|good evening)\",\n",
    "        [\"Hello! How can I assist you with your health today?\", \"Hi there! What health-related question do you have?\"]\n",
    "    ],\n",
    "    [\n",
    "        r\"(.*) (fever|cough|headache|cold|flu)(.*)\",\n",
    "        [\n",
    "            \"I'm sorry to hear that you're experiencing {1}. How long have you been feeling this way?\",\n",
    "            \"{1.capitalize()} can be uncomfortable. Have you consulted with a doctor about this?\"\n",
    "        ]\n",
    "    ],\n",
    "    [\n",
    "        r\"(.*) symptoms of (.*)\",\n",
    "        [\n",
    "            \"Common symptoms of {1} include fatigue, fever, and aches. However, it's best to consult a healthcare professional for accurate information.\",\n",
    "            \"Symptoms of {1} can vary. Are you experiencing any specific symptoms?\"\n",
    "        ]\n",
    "    ],\n",
    "    [\n",
    "        r\"(.*) treat (.*)\",\n",
    "        [\n",
    "            \"Treatment for {1} depends on the severity and cause. It's important to consult a doctor for proper diagnosis and treatment.\",\n",
    "            \"For treating {1}, healthcare professionals may recommend various options. Have you spoken to a doctor about this?\"\n",
    "        ]\n",
    "    ],\n",
    "    [\n",
    "        r\"(.*) appointment(.*)\",\n",
    "        [\n",
    "            \"You can schedule an appointment by contacting our clinic at (123) 456-7890.\",\n",
    "            \"To book an appointment, please visit our website or call our office during business hours.\"\n",
    "        ]\n",
    "    ],\n",
    "    [\n",
    "        r\"(.*) emergency(.*)\",\n",
    "        [\n",
    "            \"If you're experiencing a medical emergency, please call 911 or visit the nearest emergency room immediately.\",\n",
    "            \"For emergencies, it's crucial to seek immediate medical attention by calling emergency services.\"\n",
    "        ]\n",
    "    ],\n",
    "    [\n",
    "        r\"(.*) insurance(.*)\",\n",
    "        [\n",
    "            \"We accept various insurance plans. Could you please specify which insurance you have?\",\n",
    "            \"For insurance-related queries, please contact our billing department at (123) 456-7890.\"\n",
    "        ]\n",
    "    ],\n",
    "    [\n",
    "        r\"(.*) hours(.*)\",\n",
    "        [\n",
    "            \"Our clinic operates from 8 AM to 6 PM, Monday through Friday.\",\n",
    "            \"We are open from 8 AM to 6 PM on weekdays. Do you want to schedule a visit during these hours?\"\n",
    "        ]\n",
    "    ],\n",
    "    [\n",
    "        r\"thank you|thanks\",\n",
    "        [\"You're welcome! Is there anything else I can assist you with?\", \"My pleasure! Let me know if you have any other questions.\"]\n",
    "    ],\n",
    "    [\n",
    "        r\"(no|nothing|that's all|no thanks|no, thank you)\",\n",
    "        [\"Alright! If you need anything else, feel free to ask. Have a great day!\"]\n",
    "    ],\n",
    "    [\n",
    "        r\"(bye|goodbye|exit|quit)\",\n",
    "        [\"Goodbye! Take care of your health.\", \"Farewell! Stay healthy.\"]\n",
    "    ],\n",
    "    [\n",
    "        # Default response for any unmatched input\n",
    "        r\"(.*)\",\n",
    "        [\n",
    "            \"I'm sorry, I didn't understand that. Could you please rephrase your question?\",\n",
    "            \"Could you provide more details or clarify your question?\"\n",
    "        ]\n",
    "    ]\n",
    "]"
   ]
  },
  {
   "cell_type": "code",
   "execution_count": 3,
   "id": "a061fa55",
   "metadata": {},
   "outputs": [],
   "source": [
    "# Define the chatbot function\n",
    "def healthcare_chatbot():\n",
    "    # Display a welcome message and a disclaimer when the chatbot starts\n",
    "    print(\"Hello! I am your healthcare assistant chatbot.\")\n",
    "    print(\"Please note that I am not a medical professional, and my responses are for informational purposes only.\")\n",
    "    print(\"For professional medical advice, please consult a qualified healthcare provider.\")\n",
    "    print(\"You can type 'exit' or 'quit' anytime to end the conversation.\\n\")"
   ]
  },
  {
   "cell_type": "code",
   "execution_count": 4,
   "id": "94f9f47f",
   "metadata": {},
   "outputs": [],
   "source": [
    " # Create a Chat object with the pairs and reflections\n",
    "    # 'reflections' helps in converting user inputs to appropriate responses (e.g., \"I am\" -> \"you are\")\n",
    "chat = Chat(pairs, reflections)"
   ]
  },
  {
   "cell_type": "code",
   "execution_count": null,
   "id": "96b833aa",
   "metadata": {},
   "outputs": [
    {
     "name": "stdout",
     "output_type": "stream",
     "text": [
      ">Hi\n",
      "Hi there! What health-related question do you have?\n",
      ">Can I schedule an appointment?\n",
      "To book an appointment, please visit our website or call our office during business hours.\n",
      ">Thank you!\n",
      "My pleasure! Let me know if you have any other questions.\n",
      ">No.\n",
      "Alright! If you need anything else, feel free to ask. Have a great day!\n"
     ]
    }
   ],
   "source": [
    "# Start the conversation\n",
    "chat.converse()"
   ]
  },
  {
   "cell_type": "code",
   "execution_count": null,
   "id": "ec06464c",
   "metadata": {},
   "outputs": [],
   "source": [
    "# Run the chatbot if this script is executed directly\n",
    "if __name__ == \"__main__\":\n",
    "    healthcare_chatbot()"
   ]
  }
 ],
 "metadata": {
  "kernelspec": {
   "display_name": "Python 3 (ipykernel)",
   "language": "python",
   "name": "python3"
  },
  "language_info": {
   "codemirror_mode": {
    "name": "ipython",
    "version": 3
   },
   "file_extension": ".py",
   "mimetype": "text/x-python",
   "name": "python",
   "nbconvert_exporter": "python",
   "pygments_lexer": "ipython3",
   "version": "3.9.13"
  }
 },
 "nbformat": 4,
 "nbformat_minor": 5
}
